{
 "cells": [
  {
   "cell_type": "markdown",
   "metadata": {},
   "source": [
    "# Sparkify Project Workspace\n",
    "This workspace contains a tiny subset (128MB) of the full dataset available (12GB). Feel free to use this workspace to build your project, or to explore a smaller subset with Spark before deploying your cluster on the cloud. Instructions for setting up your Spark cluster is included in the last lesson of the Extracurricular Spark Course content.\n",
    "\n",
    "You can follow the steps below to guide your data analysis and model building portion of this project."
   ]
  },
  {
   "cell_type": "code",
   "execution_count": 1,
   "metadata": {},
   "outputs": [],
   "source": [
    "# import libraries\n",
    "from pyspark.sql import SparkSession, Window\n",
    "from pyspark.sql.functions import avg, stddev, split, udf, isnull, first, col, format_number, rand\n",
    "from pyspark.sql.functions import min as fmin\n",
    "from pyspark.sql.functions import max as fmax\n",
    "from pyspark.sql.types import IntegerType, FloatType\n",
    "\n",
    "from pyspark.ml import Pipeline\n",
    "from pyspark.ml.classification import LogisticRegression, DecisionTreeClassifier,RandomForestClassifier, LinearSVC\n",
    "from pyspark.ml.feature import StandardScaler, VectorAssembler\n",
    "from pyspark.ml.evaluation import MulticlassClassificationEvaluator\n",
    "from pyspark.mllib.evaluation import MulticlassMetrics\n",
    "from pyspark.ml.tuning import CrossValidator, ParamGridBuilder\n",
    "\n",
    "import datetime\n",
    "import pandas as pd \n",
    "from pyspark.ml.feature import VectorAssembler, Normalizer, StandardScaler\n"
   ]
  },
  {
   "cell_type": "code",
   "execution_count": 2,
   "metadata": {},
   "outputs": [],
   "source": [
    "# create a Spark session\n",
    "spark = SparkSession.builder.appName('Sparkify').getOrCreate()"
   ]
  },
  {
   "cell_type": "markdown",
   "metadata": {},
   "source": [
    "# Load and Clean Dataset\n",
    "In this workspace, the mini-dataset file is `mini_sparkify_event_data.json`. Load and clean the dataset, checking for invalid or missing data - for example, records without userids or sessionids. "
   ]
  },
  {
   "cell_type": "code",
   "execution_count": 3,
   "metadata": {
    "scrolled": true
   },
   "outputs": [],
   "source": [
    "df = spark.read.json('mini_sparkify_event_data.json')"
   ]
  },
  {
   "cell_type": "code",
   "execution_count": 4,
   "metadata": {},
   "outputs": [
    {
     "name": "stdout",
     "output_type": "stream",
     "text": [
      "root\n",
      " |-- artist: string (nullable = true)\n",
      " |-- auth: string (nullable = true)\n",
      " |-- firstName: string (nullable = true)\n",
      " |-- gender: string (nullable = true)\n",
      " |-- itemInSession: long (nullable = true)\n",
      " |-- lastName: string (nullable = true)\n",
      " |-- length: double (nullable = true)\n",
      " |-- level: string (nullable = true)\n",
      " |-- location: string (nullable = true)\n",
      " |-- method: string (nullable = true)\n",
      " |-- page: string (nullable = true)\n",
      " |-- registration: long (nullable = true)\n",
      " |-- sessionId: long (nullable = true)\n",
      " |-- song: string (nullable = true)\n",
      " |-- status: long (nullable = true)\n",
      " |-- ts: long (nullable = true)\n",
      " |-- userAgent: string (nullable = true)\n",
      " |-- userId: string (nullable = true)\n",
      "\n"
     ]
    }
   ],
   "source": [
    "df.printSchema()"
   ]
  },
  {
   "cell_type": "code",
   "execution_count": 5,
   "metadata": {},
   "outputs": [
    {
     "name": "stdout",
     "output_type": "stream",
     "text": [
      "+--------------+---------+---------+------+-------------+--------+---------+-----+---------------+------+--------+-------------+---------+---------+------+-------------+--------------------+------+\n",
      "|        artist|     auth|firstName|gender|itemInSession|lastName|   length|level|       location|method|    page| registration|sessionId|     song|status|           ts|           userAgent|userId|\n",
      "+--------------+---------+---------+------+-------------+--------+---------+-----+---------------+------+--------+-------------+---------+---------+------+-------------+--------------------+------+\n",
      "|Martha Tilston|Logged In|    Colin|     M|           50| Freeman|277.89016| paid|Bakersfield, CA|   PUT|NextSong|1538173362000|       29|Rockpools|   200|1538352117000|Mozilla/5.0 (Wind...|    30|\n",
      "+--------------+---------+---------+------+-------------+--------+---------+-----+---------------+------+--------+-------------+---------+---------+------+-------------+--------------------+------+\n",
      "only showing top 1 row\n",
      "\n"
     ]
    }
   ],
   "source": [
    "df.show(1)"
   ]
  },
  {
   "cell_type": "code",
   "execution_count": 6,
   "metadata": {},
   "outputs": [
    {
     "data": {
      "text/plain": [
       "DataFrame[artist: string, auth: string, firstName: string, gender: string, itemInSession: bigint, lastName: string, length: double, level: string, location: string, method: string, page: string, registration: bigint, sessionId: bigint, song: string, status: bigint, ts: bigint, userAgent: string, userId: string]"
      ]
     },
     "execution_count": 6,
     "metadata": {},
     "output_type": "execute_result"
    }
   ],
   "source": [
    "df.persist()"
   ]
  },
  {
   "cell_type": "code",
   "execution_count": 7,
   "metadata": {},
   "outputs": [
    {
     "data": {
      "text/plain": [
       "8346"
      ]
     },
     "execution_count": 7,
     "metadata": {},
     "output_type": "execute_result"
    }
   ],
   "source": [
    "#checking for nulls userId\n",
    "df.filter(df['userId']=='').count()"
   ]
  },
  {
   "cell_type": "code",
   "execution_count": 8,
   "metadata": {},
   "outputs": [
    {
     "data": {
      "text/plain": [
       "8346"
      ]
     },
     "execution_count": 8,
     "metadata": {},
     "output_type": "execute_result"
    }
   ],
   "source": [
    "#checking for nulls sessionIds\n",
    "df.filter(df['userId']=='').count()"
   ]
  },
  {
   "cell_type": "code",
   "execution_count": 9,
   "metadata": {},
   "outputs": [],
   "source": [
    "#remove nulls\n",
    "df = df.filter(df.userId!=\"\")"
   ]
  },
  {
   "cell_type": "markdown",
   "metadata": {},
   "source": [
    "# Exploratory Data Analysis\n",
    "When you're working with the full dataset, perform EDA by loading a small subset of the data and doing basic manipulations within Spark. In this workspace, you are already provided a small subset of data you can explore.\n",
    "\n",
    "### Define Churn\n",
    "\n",
    "Once you've done some preliminary analysis, create a column `Churn` to use as the label for your model. I suggest using the `Cancellation Confirmation` events to define your churn, which happen for both paid and free users. As a bonus task, you can also look into the `Downgrade` events.\n",
    "\n",
    "### Explore Data\n",
    "Once you've defined churn, perform some exploratory data analysis to observe the behavior for users who stayed vs users who churned. You can start by exploring aggregates on these two groups of users, observing how much of a specific action they experienced per a certain time unit or number of songs played."
   ]
  },
  {
   "cell_type": "code",
   "execution_count": 10,
   "metadata": {},
   "outputs": [
    {
     "name": "stdout",
     "output_type": "stream",
     "text": [
      "+--------------------+\n",
      "|                page|\n",
      "+--------------------+\n",
      "|              Cancel|\n",
      "|    Submit Downgrade|\n",
      "|         Thumbs Down|\n",
      "|                Home|\n",
      "|           Downgrade|\n",
      "|         Roll Advert|\n",
      "|              Logout|\n",
      "|       Save Settings|\n",
      "|Cancellation Conf...|\n",
      "|               About|\n",
      "|            Settings|\n",
      "|     Add to Playlist|\n",
      "|          Add Friend|\n",
      "|            NextSong|\n",
      "|           Thumbs Up|\n",
      "|                Help|\n",
      "|             Upgrade|\n",
      "|               Error|\n",
      "|      Submit Upgrade|\n",
      "+--------------------+\n",
      "\n"
     ]
    }
   ],
   "source": [
    "df.select(\"page\").dropDuplicates().show()"
   ]
  },
  {
   "cell_type": "code",
   "execution_count": 11,
   "metadata": {},
   "outputs": [
    {
     "name": "stdout",
     "output_type": "stream",
     "text": [
      "+------+\n",
      "|userId|\n",
      "+------+\n",
      "|   125|\n",
      "|    51|\n",
      "|    54|\n",
      "|100014|\n",
      "|   101|\n",
      "+------+\n",
      "only showing top 5 rows\n",
      "\n"
     ]
    }
   ],
   "source": [
    "#5 users who did cancelation event\n",
    "df.filter(df.page==\"Cancellation Confirmation\").select(\"userId\").dropDuplicates().show(5)"
   ]
  },
  {
   "cell_type": "code",
   "execution_count": 12,
   "metadata": {},
   "outputs": [],
   "source": [
    "#define time stamp\n",
    "get_time = udf(lambda x: datetime.datetime.fromtimestamp(x / 1000.0).strftime(\"%Y-%m-%d %H:%M:%S\"))\n",
    "df = df.withColumn(\"time\", get_time(df.ts))"
   ]
  },
  {
   "cell_type": "code",
   "execution_count": 13,
   "metadata": {},
   "outputs": [
    {
     "name": "stdout",
     "output_type": "stream",
     "text": [
      "+------+--------------------+-------------------+-----+--------------------+---------+\n",
      "|userId|                page|               time|level|                song|sessionId|\n",
      "+------+--------------------+-------------------+-----+--------------------+---------+\n",
      "|   125|            NextSong|2018-10-12 04:05:44| free|    paranoid android|      174|\n",
      "|   125|            NextSong|2018-10-12 04:11:21| free|Hypnotize(Album V...|      174|\n",
      "|   125|            NextSong|2018-10-12 04:15:11| free|       I'm On My Way|      174|\n",
      "|   125|            NextSong|2018-10-12 04:18:34| free|Leader Of Men (Al...|      174|\n",
      "|   125|            NextSong|2018-10-12 04:22:04| free|       Love You Down|      174|\n",
      "|   125|            NextSong|2018-10-12 04:28:35| free|Don't Leave Me Be...|      174|\n",
      "|   125|            NextSong|2018-10-12 04:32:08| free|     They're Red Hot|      174|\n",
      "|   125|            NextSong|2018-10-12 04:35:06| free|                Kota|      174|\n",
      "|   125|         Roll Advert|2018-10-12 04:35:17| free|                null|      174|\n",
      "|   125|              Cancel|2018-10-12 04:35:18| free|                null|      174|\n",
      "|   125|Cancellation Conf...|2018-10-12 04:35:18| free|                null|      174|\n",
      "+------+--------------------+-------------------+-----+--------------------+---------+\n",
      "\n"
     ]
    }
   ],
   "source": [
    "#test with user 125\n",
    "df.select([\"userId\", \"page\", \"time\", \"level\", \"song\", \"sessionId\"]).where(df.userId =='125').sort(\"time\").show(100)"
   ]
  },
  {
   "cell_type": "code",
   "execution_count": 14,
   "metadata": {},
   "outputs": [],
   "source": [
    "#define churn \n",
    "churn = udf(lambda x: 1 if x == \"Cancellation Confirmation\" else 0, IntegerType())\n",
    "df = df.withColumn(\"churn\", churn(\"page\"))"
   ]
  },
  {
   "cell_type": "code",
   "execution_count": 15,
   "metadata": {
    "scrolled": true
   },
   "outputs": [
    {
     "name": "stdout",
     "output_type": "stream",
     "text": [
      "+------+--------------------+-------------------+-----+--------------------+-------------+---------+-----+\n",
      "|userId|                page|               time|level|                song|itemInSession|sessionId|churn|\n",
      "+------+--------------------+-------------------+-----+--------------------+-------------+---------+-----+\n",
      "|   125|            NextSong|2018-10-12 04:05:44| free|    paranoid android|            0|      174|    0|\n",
      "|   125|            NextSong|2018-10-12 04:11:21| free|Hypnotize(Album V...|            1|      174|    0|\n",
      "|   125|            NextSong|2018-10-12 04:15:11| free|       I'm On My Way|            2|      174|    0|\n",
      "|   125|            NextSong|2018-10-12 04:18:34| free|Leader Of Men (Al...|            3|      174|    0|\n",
      "|   125|            NextSong|2018-10-12 04:22:04| free|       Love You Down|            4|      174|    0|\n",
      "|   125|            NextSong|2018-10-12 04:28:35| free|Don't Leave Me Be...|            5|      174|    0|\n",
      "|   125|            NextSong|2018-10-12 04:32:08| free|     They're Red Hot|            6|      174|    0|\n",
      "|   125|            NextSong|2018-10-12 04:35:06| free|                Kota|            7|      174|    0|\n",
      "|   125|         Roll Advert|2018-10-12 04:35:17| free|                null|            8|      174|    0|\n",
      "|   125|              Cancel|2018-10-12 04:35:18| free|                null|            9|      174|    0|\n",
      "|   125|Cancellation Conf...|2018-10-12 04:35:18| free|                null|           10|      174|    1|\n",
      "+------+--------------------+-------------------+-----+--------------------+-------------+---------+-----+\n",
      "\n"
     ]
    }
   ],
   "source": [
    "#test\n",
    "df.select([\"userId\", \"page\", \"time\", \"level\", \"song\",\"itemInSession\", \"sessionId\",\"churn\"]).where(df.userId =='125').sort(\"time\").show(100)"
   ]
  },
  {
   "cell_type": "code",
   "execution_count": 16,
   "metadata": {
    "scrolled": true
   },
   "outputs": [],
   "source": [
    "#creating new view with churn added\n",
    "df.createOrReplaceTempView('clean')"
   ]
  },
  {
   "cell_type": "code",
   "execution_count": 17,
   "metadata": {},
   "outputs": [
    {
     "name": "stdout",
     "output_type": "stream",
     "text": [
      "+-----+----------------------+\n",
      "|churn|count(DISTINCT userId)|\n",
      "+-----+----------------------+\n",
      "|    1|                    52|\n",
      "|    0|                   225|\n",
      "+-----+----------------------+\n",
      "\n"
     ]
    }
   ],
   "source": [
    "#count of users with churn flag\n",
    "spark.sql(\"\"\" select churn,count(DISTINCT userId) from clean group by churn\"\"\").show()"
   ]
  },
  {
   "cell_type": "markdown",
   "metadata": {},
   "source": [
    "# Feature Engineering\n",
    "Once you've familiarized yourself with the data, build out the features you find promising to train your model on. To work with the full dataset, you can follow the following steps.\n",
    "- Write a script to extract the necessary features from the smaller subset of data\n",
    "- Ensure that your script is scalable, using the best practices discussed in Lesson 3\n",
    "- Try your script on the full data set, debugging your script if necessary\n",
    "\n",
    "If you are working in the classroom workspace, you can just extract features based on the small subset of data contained here. Be sure to transfer over this work to the larger dataset when you work on your Spark cluster."
   ]
  },
  {
   "cell_type": "code",
   "execution_count": 18,
   "metadata": {},
   "outputs": [
    {
     "name": "stdout",
     "output_type": "stream",
     "text": [
      "root\n",
      " |-- artist: string (nullable = true)\n",
      " |-- auth: string (nullable = true)\n",
      " |-- firstName: string (nullable = true)\n",
      " |-- gender: string (nullable = true)\n",
      " |-- itemInSession: long (nullable = true)\n",
      " |-- lastName: string (nullable = true)\n",
      " |-- length: double (nullable = true)\n",
      " |-- level: string (nullable = true)\n",
      " |-- location: string (nullable = true)\n",
      " |-- method: string (nullable = true)\n",
      " |-- page: string (nullable = true)\n",
      " |-- registration: long (nullable = true)\n",
      " |-- sessionId: long (nullable = true)\n",
      " |-- song: string (nullable = true)\n",
      " |-- status: long (nullable = true)\n",
      " |-- ts: long (nullable = true)\n",
      " |-- userAgent: string (nullable = true)\n",
      " |-- userId: string (nullable = true)\n",
      " |-- time: string (nullable = true)\n",
      " |-- churn: integer (nullable = true)\n",
      "\n"
     ]
    }
   ],
   "source": [
    "df.printSchema()"
   ]
  },
  {
   "cell_type": "markdown",
   "metadata": {},
   "source": [
    "### features we will be using \n",
    "\n",
    "- gender\n",
    "- number of sessions\n",
    "- duration \n",
    "- number of songs\n",
    "- errors\n",
    "- level\n",
    "- number of friends\n",
    "- thumbs up/down count"
   ]
  },
  {
   "cell_type": "code",
   "execution_count": 21,
   "metadata": {},
   "outputs": [],
   "source": [
    "#getting gender \n",
    "def gender(uid):\n",
    "    result = spark.sql(\"\"\" select gender from clean where userId = '{}' \"\"\".format(uid)).first().gender\n",
    "    return 0 if result=='M' else 1\n",
    "#getting count of sessions\n",
    "def sessionCount(uid):\n",
    "    return spark.sql(\"\"\" select sessionId from clean where userId = '{}' \"\"\".format(uid)).count()\n",
    "#getting count of sessions\n",
    "def duration(uid):\n",
    "    return spark.sql(\"\"\" select (max(ts) - min(registration))/86400000 as time from clean where userId = '{}' \"\"\".format(uid)).first().time\n",
    "#getting error count\n",
    "def errorsCount(uid):\n",
    "    return spark.sql(\"\"\" select userId from clean where page = 'Error' and userId= '{}'\"\"\".format(uid)).count()\n",
    "#getting songs count\n",
    "def songsCount(uid):\n",
    "    return spark.sql(\"\"\" select distinct song from clean where userId= '{}'\"\"\".format(uid)).count()\n",
    "#getting level \n",
    "def level(uid):\n",
    "    result = spark.sql(\"\"\" select level from clean where userId = '{}' \"\"\".format(uid)).first().level\n",
    "    return 0 if result=='free' else 1\n",
    "#thumbs up/down count\n",
    "def thumbsUp(uid):\n",
    "    return spark.sql(\"\"\" select userId from clean where page = 'Thumbs Up' and userId= '{}'\"\"\".format(uid)).count()\n",
    "def thumbsDown(uid):\n",
    "    return spark.sql(\"\"\" select userId from clean where page = 'Thumbs Down' and userId= '{}'\"\"\".format(uid)).count()\n",
    "#friends count\n",
    "def friendsCounts(uid):\n",
    "    return spark.sql(\"\"\" select userId  from clean where page = 'Add Friend' and userId= '{}'\"\"\".format(uid)).count()\n",
    "#label \n",
    "def label(uid):\n",
    "    return spark.sql(\"\"\" select max(churn) as label from clean where userId = '{}' \"\"\".format(uid)).first().label"
   ]
  },
  {
   "cell_type": "code",
   "execution_count": 23,
   "metadata": {},
   "outputs": [],
   "source": [
    "uid = '100010'\n",
    "tmp = pd.DataFrame({\"uid\":int(uid), \n",
    "                  \"label\":int(label(uid)),\n",
    "                  \"gender\":int(gender(uid)),\n",
    "                  \"sessions\":int(sessionCount(uid)),\n",
    "                  \"duration\":float(duration(uid)),\n",
    "                  \"errors\":int(errorsCount(uid)),\n",
    "                  \"songs\":int(songsCount(uid)),\n",
    "                  \"level\":int(level(uid)),\n",
    "                  \"thumbsUp\":int(thumbsUp(uid)),\n",
    "                  \"thumbsDown\":int(thumbsDown(uid)),\n",
    "                  \"freinds\":int(friendsCounts(uid)),\n",
    "                 },index=[0]) "
   ]
  },
  {
   "cell_type": "code",
   "execution_count": 24,
   "metadata": {},
   "outputs": [
    {
     "data": {
      "text/html": [
       "<div>\n",
       "<style scoped>\n",
       "    .dataframe tbody tr th:only-of-type {\n",
       "        vertical-align: middle;\n",
       "    }\n",
       "\n",
       "    .dataframe tbody tr th {\n",
       "        vertical-align: top;\n",
       "    }\n",
       "\n",
       "    .dataframe thead th {\n",
       "        text-align: right;\n",
       "    }\n",
       "</style>\n",
       "<table border=\"1\" class=\"dataframe\">\n",
       "  <thead>\n",
       "    <tr style=\"text-align: right;\">\n",
       "      <th></th>\n",
       "      <th>uid</th>\n",
       "      <th>label</th>\n",
       "      <th>gender</th>\n",
       "      <th>sessions</th>\n",
       "      <th>duration</th>\n",
       "      <th>errors</th>\n",
       "      <th>songs</th>\n",
       "      <th>level</th>\n",
       "      <th>thumbsUp</th>\n",
       "      <th>thumbsDown</th>\n",
       "      <th>freinds</th>\n",
       "    </tr>\n",
       "  </thead>\n",
       "  <tbody>\n",
       "    <tr>\n",
       "      <th>0</th>\n",
       "      <td>100010</td>\n",
       "      <td>0</td>\n",
       "      <td>1</td>\n",
       "      <td>381</td>\n",
       "      <td>55.643657</td>\n",
       "      <td>0</td>\n",
       "      <td>270</td>\n",
       "      <td>0</td>\n",
       "      <td>17</td>\n",
       "      <td>5</td>\n",
       "      <td>4</td>\n",
       "    </tr>\n",
       "  </tbody>\n",
       "</table>\n",
       "</div>"
      ],
      "text/plain": [
       "      uid  label  gender  sessions   duration  errors  songs  level  thumbsUp  \\\n",
       "0  100010      0       1       381  55.643657       0    270      0        17   \n",
       "\n",
       "   thumbsDown  freinds  \n",
       "0           5        4  "
      ]
     },
     "execution_count": 24,
     "metadata": {},
     "output_type": "execute_result"
    }
   ],
   "source": [
    "tmp"
   ]
  },
  {
   "cell_type": "code",
   "execution_count": 27,
   "metadata": {},
   "outputs": [],
   "source": [
    "#get user ids list\n",
    "uids = spark.sql(\"\"\" select distinct userId from clean\"\"\")"
   ]
  },
  {
   "cell_type": "code",
   "execution_count": 28,
   "metadata": {},
   "outputs": [],
   "source": [
    "ready_df = pd.DataFrame(columns=[\"uid\",\"label\",\"gender\",\"sessions\",\n",
    "                  \"duration\",\"errors\",\"songs\",\"level\",\"thumbsUp\",\"thumbsDown\",\"friends\"])\n",
    "#loop and create df for model\n",
    "for row in uids.collect():\n",
    "    uid = row.userId\n",
    "    tmp = pd.DataFrame({\"uid\":int(uid), \n",
    "                  \"label\":int(label(uid)),\n",
    "                  \"gender\":int(gender(uid)),\n",
    "                  \"sessions\":int(sessionCount(uid)),\n",
    "                  \"duration\":float(duration(uid)),\n",
    "                  \"errors\":int(errorsCount(uid)),\n",
    "                  \"songs\":int(songsCount(uid)),\n",
    "                  \"level\":int(level(uid)),\n",
    "                  \"thumbsUp\":int(thumbsUp(uid)),\n",
    "                  \"thumbsDown\":int(thumbsDown(uid)),\n",
    "                  \"friends\":int(friendsCounts(uid))\n",
    "                 },index=[0]) \n",
    "    ready_df = ready_df.append(tmp)"
   ]
  },
  {
   "cell_type": "code",
   "execution_count": 29,
   "metadata": {},
   "outputs": [
    {
     "data": {
      "text/html": [
       "<div>\n",
       "<style scoped>\n",
       "    .dataframe tbody tr th:only-of-type {\n",
       "        vertical-align: middle;\n",
       "    }\n",
       "\n",
       "    .dataframe tbody tr th {\n",
       "        vertical-align: top;\n",
       "    }\n",
       "\n",
       "    .dataframe thead th {\n",
       "        text-align: right;\n",
       "    }\n",
       "</style>\n",
       "<table border=\"1\" class=\"dataframe\">\n",
       "  <thead>\n",
       "    <tr style=\"text-align: right;\">\n",
       "      <th></th>\n",
       "      <th>uid</th>\n",
       "      <th>label</th>\n",
       "      <th>gender</th>\n",
       "      <th>sessions</th>\n",
       "      <th>duration</th>\n",
       "      <th>errors</th>\n",
       "      <th>songs</th>\n",
       "      <th>level</th>\n",
       "      <th>thumbsUp</th>\n",
       "      <th>thumbsDown</th>\n",
       "      <th>friends</th>\n",
       "    </tr>\n",
       "  </thead>\n",
       "  <tbody>\n",
       "    <tr>\n",
       "      <th>0</th>\n",
       "      <td>100010</td>\n",
       "      <td>0</td>\n",
       "      <td>1</td>\n",
       "      <td>381</td>\n",
       "      <td>55.643657</td>\n",
       "      <td>0</td>\n",
       "      <td>270</td>\n",
       "      <td>0</td>\n",
       "      <td>17</td>\n",
       "      <td>5</td>\n",
       "      <td>4</td>\n",
       "    </tr>\n",
       "    <tr>\n",
       "      <th>0</th>\n",
       "      <td>200002</td>\n",
       "      <td>0</td>\n",
       "      <td>0</td>\n",
       "      <td>474</td>\n",
       "      <td>70.074630</td>\n",
       "      <td>0</td>\n",
       "      <td>379</td>\n",
       "      <td>0</td>\n",
       "      <td>21</td>\n",
       "      <td>6</td>\n",
       "      <td>4</td>\n",
       "    </tr>\n",
       "    <tr>\n",
       "      <th>0</th>\n",
       "      <td>125</td>\n",
       "      <td>1</td>\n",
       "      <td>0</td>\n",
       "      <td>11</td>\n",
       "      <td>71.316887</td>\n",
       "      <td>0</td>\n",
       "      <td>9</td>\n",
       "      <td>0</td>\n",
       "      <td>0</td>\n",
       "      <td>0</td>\n",
       "      <td>0</td>\n",
       "    </tr>\n",
       "    <tr>\n",
       "      <th>0</th>\n",
       "      <td>51</td>\n",
       "      <td>1</td>\n",
       "      <td>0</td>\n",
       "      <td>2464</td>\n",
       "      <td>19.455845</td>\n",
       "      <td>1</td>\n",
       "      <td>1855</td>\n",
       "      <td>1</td>\n",
       "      <td>100</td>\n",
       "      <td>21</td>\n",
       "      <td>28</td>\n",
       "    </tr>\n",
       "    <tr>\n",
       "      <th>0</th>\n",
       "      <td>124</td>\n",
       "      <td>0</td>\n",
       "      <td>1</td>\n",
       "      <td>4825</td>\n",
       "      <td>131.555914</td>\n",
       "      <td>6</td>\n",
       "      <td>3340</td>\n",
       "      <td>1</td>\n",
       "      <td>171</td>\n",
       "      <td>41</td>\n",
       "      <td>74</td>\n",
       "    </tr>\n",
       "  </tbody>\n",
       "</table>\n",
       "</div>"
      ],
      "text/plain": [
       "      uid label gender sessions    duration errors songs level thumbsUp  \\\n",
       "0  100010     0      1      381   55.643657      0   270     0       17   \n",
       "0  200002     0      0      474   70.074630      0   379     0       21   \n",
       "0     125     1      0       11   71.316887      0     9     0        0   \n",
       "0      51     1      0     2464   19.455845      1  1855     1      100   \n",
       "0     124     0      1     4825  131.555914      6  3340     1      171   \n",
       "\n",
       "  thumbsDown friends  \n",
       "0          5       4  \n",
       "0          6       4  \n",
       "0          0       0  \n",
       "0         21      28  \n",
       "0         41      74  "
      ]
     },
     "execution_count": 29,
     "metadata": {},
     "output_type": "execute_result"
    }
   ],
   "source": [
    "ready_df.head()"
   ]
  },
  {
   "cell_type": "code",
   "execution_count": 30,
   "metadata": {},
   "outputs": [
    {
     "name": "stdout",
     "output_type": "stream",
     "text": [
      "<class 'pandas.core.frame.DataFrame'>\n",
      "Int64Index: 225 entries, 0 to 0\n",
      "Data columns (total 11 columns):\n",
      "uid           225 non-null object\n",
      "label         225 non-null object\n",
      "gender        225 non-null object\n",
      "sessions      225 non-null object\n",
      "duration      225 non-null float64\n",
      "errors        225 non-null object\n",
      "songs         225 non-null object\n",
      "level         225 non-null object\n",
      "thumbsUp      225 non-null object\n",
      "thumbsDown    225 non-null object\n",
      "friends       225 non-null object\n",
      "dtypes: float64(1), object(10)\n",
      "memory usage: 21.1+ KB\n"
     ]
    }
   ],
   "source": [
    "ready_df.info()"
   ]
  },
  {
   "cell_type": "code",
   "execution_count": 31,
   "metadata": {},
   "outputs": [],
   "source": [
    "sparkDf = spark.createDataFrame(ready_df)"
   ]
  },
  {
   "cell_type": "code",
   "execution_count": 32,
   "metadata": {},
   "outputs": [
    {
     "name": "stdout",
     "output_type": "stream",
     "text": [
      "+------+-----+------+--------+------------------+------+-----+-----+--------+----------+-------+\n",
      "|   uid|label|gender|sessions|          duration|errors|songs|level|thumbsUp|thumbsDown|friends|\n",
      "+------+-----+------+--------+------------------+------+-----+-----+--------+----------+-------+\n",
      "|100010|    0|     1|     381| 55.64365740740741|     0|  270|    0|      17|         5|      4|\n",
      "|200002|    0|     0|     474| 70.07462962962963|     0|  379|    0|      21|         6|      4|\n",
      "|   125|    1|     0|      11| 71.31688657407408|     0|    9|    0|       0|         0|      0|\n",
      "|    51|    1|     0|    2464|19.455844907407407|     1| 1855|    1|     100|        21|     28|\n",
      "|   124|    0|     1|    4825|131.55591435185184|     6| 3340|    1|     171|        41|     74|\n",
      "|     7|    0|     0|     201| 72.77818287037037|     1|  149|    0|       7|         1|      1|\n",
      "|    54|    1|     1|    3437|110.75168981481481|     1| 2415|    1|     163|        29|     33|\n",
      "|    15|    0|     0|    2278|56.513576388888886|     2| 1708|    1|      81|        14|     31|\n",
      "|   155|    0|     1|    1002|23.556018518518517|     3|  760|    0|      58|         3|     11|\n",
      "|   132|    0|     1|    2304|  66.8891087962963|     3| 1719|    0|      96|        17|     41|\n",
      "|   154|    0|     1|     118|23.872037037037035|     0|   84|    0|      11|         0|      3|\n",
      "|100014|    1|     0|     310| 85.08340277777778|     0|  249|    1|      17|         3|      6|\n",
      "|   101|    1|     0|    2149|        53.9659375|     3| 1609|    0|      86|        16|     29|\n",
      "|    11|    0|     1|     848|124.47825231481481|     1|  617|    0|      40|         9|      6|\n",
      "|   138|    0|     0|    2469| 66.62668981481481|     1| 1792|    0|      95|        24|     41|\n",
      "|300017|    0|     1|    4428| 74.35851851851852|     5| 3014|    1|     303|        28|     63|\n",
      "|    29|    1|     0|    3603|60.104050925925925|     0| 2563|    0|     154|        22|     47|\n",
      "|    69|    0|     1|    1342| 71.42444444444445|     4| 1037|    0|      72|         9|     12|\n",
      "|100021|    1|     0|     319| 64.73886574074074|     2|  227|    0|      11|         5|      7|\n",
      "|    42|    0|     1|    4257| 67.11364583333334|     7| 2962|    0|     166|        25|     52|\n",
      "+------+-----+------+--------+------------------+------+-----+-----+--------+----------+-------+\n",
      "only showing top 20 rows\n",
      "\n"
     ]
    }
   ],
   "source": [
    "sparkDf.show()"
   ]
  },
  {
   "cell_type": "markdown",
   "metadata": {},
   "source": [
    "# Modeling\n",
    "Split the full dataset into train, test, and validation sets. Test out several of the machine learning methods you learned. Evaluate the accuracy of the various models, tuning parameters as necessary. Determine your winning model based on test accuracy and report results on the validation set. Since the churned users are a fairly small subset, I suggest using F1 score as the metric to optimize."
   ]
  },
  {
   "cell_type": "code",
   "execution_count": 36,
   "metadata": {},
   "outputs": [],
   "source": [
    "# Split the data into train and test\n",
    "train, test = sparkDf.randomSplit([0.8, 0.2], seed=8)"
   ]
  },
  {
   "cell_type": "code",
   "execution_count": 37,
   "metadata": {},
   "outputs": [],
   "source": [
    "#put in vector\n",
    "assembler = VectorAssembler(inputCols=[\"uid\",\"gender\",\"errors\",\"songs\",\"sessions\", \"thumbsUp\",\"thumbsDown\",\"duration\",\"level\"],\n",
    "                            outputCol=\"inputFeatures\")\n",
    "# Normalize \n",
    "scaler = Normalizer(inputCol=\"inputFeatures\", outputCol=\"features\")"
   ]
  },
  {
   "cell_type": "code",
   "execution_count": 38,
   "metadata": {},
   "outputs": [
    {
     "name": "stdout",
     "output_type": "stream",
     "text": [
      "f1 score:\n"
     ]
    },
    {
     "data": {
      "text/plain": [
       "0.5874082369043176"
      ]
     },
     "execution_count": 38,
     "metadata": {},
     "output_type": "execute_result"
    }
   ],
   "source": [
    "# model\n",
    "rf= RandomForestClassifier()\n",
    "pipeline=Pipeline(stages=[assembler, scaler, rf])\n",
    "paramgrid =ParamGridBuilder().build()\n",
    "\n",
    "evaluator=MulticlassClassificationEvaluator(metricName=\"f1\")\n",
    "\n",
    "crossval= CrossValidator(estimator=pipeline,  \n",
    "                         estimatorParamMaps=paramgrid,\n",
    "                         evaluator=evaluator, \n",
    "                         numFolds=10\n",
    "                        )\n",
    "\n",
    "cv_model=crossval.fit(train) \n",
    "print('f1 score:')\n",
    "evaluator.evaluate(cv_model.transform(test))"
   ]
  },
  {
   "cell_type": "markdown",
   "metadata": {},
   "source": [
    "# Final Steps\n",
    "Clean up your code, adding comments and renaming variables to make the code easier to read and maintain. Refer to the Spark Project Overview page and Data Scientist Capstone Project Rubric to make sure you are including all components of the capstone project and meet all expectations. Remember, this includes thorough documentation in a README file in a Github repository, as well as a web app or blog post."
   ]
  },
  {
   "cell_type": "code",
   "execution_count": null,
   "metadata": {},
   "outputs": [],
   "source": []
  }
 ],
 "metadata": {
  "kernelspec": {
   "display_name": "Python 3",
   "language": "python",
   "name": "python3"
  },
  "language_info": {
   "codemirror_mode": {
    "name": "ipython",
    "version": 3
   },
   "file_extension": ".py",
   "mimetype": "text/x-python",
   "name": "python",
   "nbconvert_exporter": "python",
   "pygments_lexer": "ipython3",
   "version": "3.6.3"
  }
 },
 "nbformat": 4,
 "nbformat_minor": 2
}
